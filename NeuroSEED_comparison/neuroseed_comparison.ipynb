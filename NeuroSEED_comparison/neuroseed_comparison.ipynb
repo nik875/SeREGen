{
 "cells": [
  {
   "cell_type": "code",
   "execution_count": 1,
   "id": "f052bcd0-6434-4ace-9f1a-afc8228f0c91",
   "metadata": {},
   "outputs": [
    {
     "name": "stdout",
     "output_type": "stream",
     "text": [
      "Processing /Users/NikhilKalidasu/Documents/DNA Visualization/SeREGen/SeREGen\n",
      "  Installing build dependencies ... \u001b[?25ldone\n",
      "\u001b[?25h  Getting requirements to build wheel ... \u001b[?25ldone\n",
      "\u001b[?25h  Installing backend dependencies ... \u001b[?25ldone\n",
      "\u001b[?25h  Preparing metadata (pyproject.toml) ... \u001b[?25ldone\n",
      "\u001b[?25hBuilding wheels for collected packages: SeREGen\n",
      "  Building wheel for SeREGen (pyproject.toml) ... \u001b[?25ldone\n",
      "\u001b[?25h  Created wheel for SeREGen: filename=SeREGen-0.0.9-py3-none-any.whl size=47916 sha256=e410483c449e53db0c39d16d2c02ec0da96c6e9015252fed0c5cb64de7f534ff\n",
      "  Stored in directory: /private/var/folders/_t/pfxf9f7x0nz1m6vckn9glz_40000gn/T/pip-ephem-wheel-cache-y6xpvany/wheels/c6/79/e5/431bc1fc7477a043b52c65c69a40862e34f24b12add06f2e4c\n",
      "Successfully built SeREGen\n",
      "Installing collected packages: SeREGen\n",
      "  Attempting uninstall: SeREGen\n",
      "    Found existing installation: SeREGen 0.0.9\n",
      "    Uninstalling SeREGen-0.0.9:\n",
      "      Successfully uninstalled SeREGen-0.0.9\n",
      "Successfully installed SeREGen-0.0.9\n"
     ]
    }
   ],
   "source": [
    "!pip install ../SeREGen --no-deps"
   ]
  },
  {
   "cell_type": "code",
   "execution_count": 2,
   "id": "efdd4550-c0d0-4414-ae10-99097d42a515",
   "metadata": {},
   "outputs": [],
   "source": [
    "import pickle\n",
    "with open('edit_qiita_large_np.pkl', 'rb') as f:\n",
    "    sequences, distances = pickle.load(f)"
   ]
  },
  {
   "cell_type": "code",
   "execution_count": 49,
   "id": "4bf6588c-de51-4362-9109-74a9f935c55d",
   "metadata": {},
   "outputs": [
    {
     "name": "stdout",
     "output_type": "stream",
     "text": [
      "Model: \"model_8\"\n",
      "_________________________________________________________________\n",
      " Layer (type)                Output Shape              Param #   \n",
      "=================================================================\n",
      " input_5 (InputLayer)        [(None, 152)]             0         \n",
      "                                                                 \n",
      " tf.cast_4 (TFOpLambda)      (None, 152)               0         \n",
      "                                                                 \n",
      " tf.one_hot_4 (TFOpLambda)   (None, 152, 4)            0         \n",
      "                                                                 \n",
      " flatten_4 (Flatten)         (None, 608)               0         \n",
      "                                                                 \n",
      " dense_4 (Dense)             (None, 128)               77952     \n",
      "                                                                 \n",
      " batch_normalization_4 (Bat  (None, 128)               512       \n",
      " chNormalization)                                                \n",
      "                                                                 \n",
      " tf.clip_by_norm_3 (TFOpLam  (None, 128)               0         \n",
      " bda)                                                            \n",
      "                                                                 \n",
      "=================================================================\n",
      "Total params: 78464 (306.50 KB)\n",
      "Trainable params: 78208 (305.50 KB)\n",
      "Non-trainable params: 256 (1.00 KB)\n",
      "_________________________________________________________________\n"
     ]
    }
   ],
   "source": [
    "from SeREGen.encoders import ModelBuilder\n",
    "builder = ModelBuilder(sequences['train'].shape[-1])\n",
    "builder.one_hot_encoding(4)\n",
    "# builder.dense(128)\n",
    "# builder.conv1D(16, 4, 128)\n",
    "\n",
    "from SeREGen.comparative_encoder import ComparativeEncoder\n",
    "from SeREGen.distance import EditDistance\n",
    "dist = EditDistance()\n",
    "model = ComparativeEncoder.from_model_builder(builder, repr_size=128, norm_type='clip',\n",
    "                                              embed_dist='hyperbolic', dist=dist, loss='mse')\n",
    "model.summary()"
   ]
  },
  {
   "cell_type": "code",
   "execution_count": 50,
   "id": "c248af36-6525-4db7-a437-38b1daf796a0",
   "metadata": {},
   "outputs": [],
   "source": [
    "import numpy as np\n",
    "seqs = sequences['train']\n",
    "distance_on = np.array(['A', 'C', 'G', 'T'])[seqs]\n",
    "distance_on = np.fromiter((''.join(i) for i in distance_on), dtype=object).astype(str)"
   ]
  },
  {
   "cell_type": "code",
   "execution_count": 51,
   "id": "9bd00ec1-3d91-4ebe-b51f-0c06f9a0ab1b",
   "metadata": {},
   "outputs": [
    {
     "name": "stdout",
     "output_type": "stream",
     "text": [
      "Epoch 1:\n"
     ]
    },
    {
     "name": "stderr",
     "output_type": "stream",
     "text": [
      "100%|███████████████████████████████████████████████████████████████████████████| 7000/7000 [00:00<00:00, 247831.72it/s]\n"
     ]
    },
    {
     "name": "stdout",
     "output_type": "stream",
     "text": [
      "55/55 [==============================] - 3s 29ms/step - loss: 0.2906 - mae: 0.5280\n",
      "Epoch time: 2.640099287033081\n",
      "Epoch 2:\n"
     ]
    },
    {
     "name": "stderr",
     "output_type": "stream",
     "text": [
      "100%|███████████████████████████████████████████████████████████████████████████| 7000/7000 [00:00<00:00, 243869.06it/s]"
     ]
    },
    {
     "name": "stdout",
     "output_type": "stream",
     "text": [
      " 7/55 [==>...........................] - ETA: 0s - loss: 0.2697 - mae: 0.5056"
     ]
    },
    {
     "name": "stderr",
     "output_type": "stream",
     "text": [
      "\n"
     ]
    },
    {
     "name": "stdout",
     "output_type": "stream",
     "text": [
      "55/55 [==============================] - 1s 20ms/step - loss: 0.2683 - mae: 0.5049\n",
      "Epoch time: 1.181913137435913\n",
      "Epoch 3:\n"
     ]
    },
    {
     "name": "stderr",
     "output_type": "stream",
     "text": [
      "100%|███████████████████████████████████████████████████████████████████████████| 7000/7000 [00:00<00:00, 252453.83it/s]"
     ]
    },
    {
     "name": "stdout",
     "output_type": "stream",
     "text": [
      " 7/55 [==>...........................] - ETA: 0s - loss: 0.2472 - mae: 0.4846"
     ]
    },
    {
     "name": "stderr",
     "output_type": "stream",
     "text": [
      "\n"
     ]
    },
    {
     "name": "stdout",
     "output_type": "stream",
     "text": [
      "55/55 [==============================] - 1s 20ms/step - loss: 0.2407 - mae: 0.4787\n",
      "Epoch time: 1.1790850162506104\n",
      "Epoch 4:\n"
     ]
    },
    {
     "name": "stderr",
     "output_type": "stream",
     "text": [
      "100%|███████████████████████████████████████████████████████████████████████████| 7000/7000 [00:00<00:00, 248103.97it/s]"
     ]
    },
    {
     "name": "stdout",
     "output_type": "stream",
     "text": [
      " 7/55 [==>...........................] - ETA: 0s - loss: 0.2222 - mae: 0.4584"
     ]
    },
    {
     "name": "stderr",
     "output_type": "stream",
     "text": [
      "\n"
     ]
    },
    {
     "name": "stdout",
     "output_type": "stream",
     "text": [
      "55/55 [==============================] - 1s 20ms/step - loss: 0.2103 - mae: 0.4463\n",
      "Epoch time: 1.1780610084533691\n",
      "Epoch 5:\n"
     ]
    },
    {
     "name": "stderr",
     "output_type": "stream",
     "text": [
      "100%|███████████████████████████████████████████████████████████████████████████| 7000/7000 [00:00<00:00, 251003.48it/s]"
     ]
    },
    {
     "name": "stdout",
     "output_type": "stream",
     "text": [
      " 7/55 [==>...........................] - ETA: 0s - loss: 0.1828 - mae: 0.4135"
     ]
    },
    {
     "name": "stderr",
     "output_type": "stream",
     "text": [
      "\n"
     ]
    },
    {
     "name": "stdout",
     "output_type": "stream",
     "text": [
      "55/55 [==============================] - 1s 20ms/step - loss: 0.1728 - mae: 0.4016\n",
      "Epoch time: 1.1578049659729004\n",
      "Epoch 6:\n"
     ]
    },
    {
     "name": "stderr",
     "output_type": "stream",
     "text": [
      "100%|███████████████████████████████████████████████████████████████████████████| 7000/7000 [00:00<00:00, 248339.01it/s]"
     ]
    },
    {
     "name": "stdout",
     "output_type": "stream",
     "text": [
      " 7/55 [==>...........................] - ETA: 0s - loss: 0.1513 - mae: 0.3757"
     ]
    },
    {
     "name": "stderr",
     "output_type": "stream",
     "text": [
      "\n"
     ]
    },
    {
     "name": "stdout",
     "output_type": "stream",
     "text": [
      "55/55 [==============================] - 1s 20ms/step - loss: 0.1340 - mae: 0.3536\n",
      "Epoch time: 1.1641299724578857\n",
      "Epoch 7:\n"
     ]
    },
    {
     "name": "stderr",
     "output_type": "stream",
     "text": [
      "100%|███████████████████████████████████████████████████████████████████████████| 7000/7000 [00:00<00:00, 246618.07it/s]"
     ]
    },
    {
     "name": "stdout",
     "output_type": "stream",
     "text": [
      " 7/55 [==>...........................] - ETA: 0s - loss: 0.1060 - mae: 0.3153"
     ]
    },
    {
     "name": "stderr",
     "output_type": "stream",
     "text": [
      "\n"
     ]
    },
    {
     "name": "stdout",
     "output_type": "stream",
     "text": [
      "55/55 [==============================] - 1s 20ms/step - loss: 0.0930 - mae: 0.2931\n",
      "Epoch time: 1.179595947265625\n",
      "Epoch 8:\n"
     ]
    },
    {
     "name": "stderr",
     "output_type": "stream",
     "text": [
      "100%|███████████████████████████████████████████████████████████████████████████| 7000/7000 [00:00<00:00, 251480.77it/s]"
     ]
    },
    {
     "name": "stdout",
     "output_type": "stream",
     "text": [
      " 7/55 [==>...........................] - ETA: 0s - loss: 0.0749 - mae: 0.2624"
     ]
    },
    {
     "name": "stderr",
     "output_type": "stream",
     "text": [
      "\n"
     ]
    },
    {
     "name": "stdout",
     "output_type": "stream",
     "text": [
      "55/55 [==============================] - 1s 20ms/step - loss: 0.0582 - mae: 0.2311\n",
      "Epoch time: 1.1686840057373047\n",
      "Epoch 9:\n"
     ]
    },
    {
     "name": "stderr",
     "output_type": "stream",
     "text": [
      "100%|███████████████████████████████████████████████████████████████████████████| 7000/7000 [00:00<00:00, 251418.32it/s]"
     ]
    },
    {
     "name": "stdout",
     "output_type": "stream",
     "text": [
      " 7/55 [==>...........................] - ETA: 1s - loss: 0.0388 - mae: 0.1888"
     ]
    },
    {
     "name": "stderr",
     "output_type": "stream",
     "text": [
      "\n"
     ]
    },
    {
     "name": "stdout",
     "output_type": "stream",
     "text": [
      "55/55 [==============================] - 1s 20ms/step - loss: 0.0307 - mae: 0.1655\n",
      "Epoch time: 1.181750774383545\n",
      "Epoch 10:\n"
     ]
    },
    {
     "name": "stderr",
     "output_type": "stream",
     "text": [
      "100%|███████████████████████████████████████████████████████████████████████████| 7000/7000 [00:00<00:00, 251280.60it/s]"
     ]
    },
    {
     "name": "stdout",
     "output_type": "stream",
     "text": [
      " 7/55 [==>...........................] - ETA: 0s - loss: 0.0195 - mae: 0.1307"
     ]
    },
    {
     "name": "stderr",
     "output_type": "stream",
     "text": [
      "\n"
     ]
    },
    {
     "name": "stdout",
     "output_type": "stream",
     "text": [
      "55/55 [==============================] - 1s 20ms/step - loss: 0.0148 - mae: 0.1109\n",
      "Epoch time: 1.176609992980957\n",
      "Epoch 11:\n"
     ]
    },
    {
     "name": "stderr",
     "output_type": "stream",
     "text": [
      "100%|███████████████████████████████████████████████████████████████████████████| 7000/7000 [00:00<00:00, 251907.99it/s]"
     ]
    },
    {
     "name": "stdout",
     "output_type": "stream",
     "text": [
      " 7/55 [==>...........................] - ETA: 0s - loss: 0.0085 - mae: 0.0813"
     ]
    },
    {
     "name": "stderr",
     "output_type": "stream",
     "text": [
      "\n"
     ]
    },
    {
     "name": "stdout",
     "output_type": "stream",
     "text": [
      "55/55 [==============================] - 1s 20ms/step - loss: 0.0066 - mae: 0.0697\n",
      "Epoch time: 1.1719930171966553\n",
      "Epoch 12:\n"
     ]
    },
    {
     "name": "stderr",
     "output_type": "stream",
     "text": [
      "100%|███████████████████████████████████████████████████████████████████████████| 7000/7000 [00:00<00:00, 249554.85it/s]"
     ]
    },
    {
     "name": "stdout",
     "output_type": "stream",
     "text": [
      " 7/55 [==>...........................] - ETA: 1s - loss: 0.0035 - mae: 0.0484"
     ]
    },
    {
     "name": "stderr",
     "output_type": "stream",
     "text": [
      "\n"
     ]
    },
    {
     "name": "stdout",
     "output_type": "stream",
     "text": [
      "55/55 [==============================] - 1s 20ms/step - loss: 0.0031 - mae: 0.0441\n",
      "Epoch time: 1.1702349185943604\n",
      "Epoch 13:\n"
     ]
    },
    {
     "name": "stderr",
     "output_type": "stream",
     "text": [
      "100%|███████████████████████████████████████████████████████████████████████████| 7000/7000 [00:00<00:00, 248941.22it/s]"
     ]
    },
    {
     "name": "stdout",
     "output_type": "stream",
     "text": [
      " 7/55 [==>...........................] - ETA: 1s - loss: 0.0021 - mae: 0.0358"
     ]
    },
    {
     "name": "stderr",
     "output_type": "stream",
     "text": [
      "\n"
     ]
    },
    {
     "name": "stdout",
     "output_type": "stream",
     "text": [
      "55/55 [==============================] - 1s 21ms/step - loss: 0.0021 - mae: 0.0347\n",
      "Epoch time: 1.1832671165466309\n",
      "Epoch 14:\n"
     ]
    },
    {
     "name": "stderr",
     "output_type": "stream",
     "text": [
      "100%|███████████████████████████████████████████████████████████████████████████| 7000/7000 [00:00<00:00, 250162.98it/s]"
     ]
    },
    {
     "name": "stdout",
     "output_type": "stream",
     "text": [
      " 7/55 [==>...........................] - ETA: 1s - loss: 0.0019 - mae: 0.0328"
     ]
    },
    {
     "name": "stderr",
     "output_type": "stream",
     "text": [
      "\n"
     ]
    },
    {
     "name": "stdout",
     "output_type": "stream",
     "text": [
      "55/55 [==============================] - 1s 21ms/step - loss: 0.0017 - mae: 0.0313\n",
      "Epoch time: 1.2057950496673584\n",
      "Epoch 15:\n"
     ]
    },
    {
     "name": "stderr",
     "output_type": "stream",
     "text": [
      "100%|███████████████████████████████████████████████████████████████████████████| 7000/7000 [00:00<00:00, 248490.34it/s]"
     ]
    },
    {
     "name": "stdout",
     "output_type": "stream",
     "text": [
      " 7/55 [==>...........................] - ETA: 0s - loss: 0.0014 - mae: 0.0287"
     ]
    },
    {
     "name": "stderr",
     "output_type": "stream",
     "text": [
      "\n"
     ]
    },
    {
     "name": "stdout",
     "output_type": "stream",
     "text": [
      "55/55 [==============================] - 1s 22ms/step - loss: 0.0016 - mae: 0.0303\n",
      "Epoch time: 1.2381999492645264\n",
      "Epoch 16:\n"
     ]
    },
    {
     "name": "stderr",
     "output_type": "stream",
     "text": [
      "100%|███████████████████████████████████████████████████████████████████████████| 7000/7000 [00:00<00:00, 171947.03it/s]"
     ]
    },
    {
     "name": "stdout",
     "output_type": "stream",
     "text": [
      " 4/55 [=>............................] - ETA: 1s - loss: 0.0014 - mae: 0.0281"
     ]
    },
    {
     "name": "stderr",
     "output_type": "stream",
     "text": [
      "\n"
     ]
    },
    {
     "name": "stdout",
     "output_type": "stream",
     "text": [
      "55/55 [==============================] - 1s 21ms/step - loss: 0.0015 - mae: 0.0291\n",
      "Epoch time: 1.2259020805358887\n",
      "Epoch 17:\n"
     ]
    },
    {
     "name": "stderr",
     "output_type": "stream",
     "text": [
      "100%|███████████████████████████████████████████████████████████████████████████| 7000/7000 [00:00<00:00, 245899.28it/s]"
     ]
    },
    {
     "name": "stdout",
     "output_type": "stream",
     "text": [
      " 7/55 [==>...........................] - ETA: 0s - loss: 0.0012 - mae: 0.0270"
     ]
    },
    {
     "name": "stderr",
     "output_type": "stream",
     "text": [
      "\n"
     ]
    },
    {
     "name": "stdout",
     "output_type": "stream",
     "text": [
      "55/55 [==============================] - 1s 20ms/step - loss: 0.0014 - mae: 0.0291\n",
      "Epoch time: 1.147353172302246\n",
      "Epoch 18:\n"
     ]
    },
    {
     "name": "stderr",
     "output_type": "stream",
     "text": [
      "100%|███████████████████████████████████████████████████████████████████████████| 7000/7000 [00:00<00:00, 253576.73it/s]"
     ]
    },
    {
     "name": "stdout",
     "output_type": "stream",
     "text": [
      " 7/55 [==>...........................] - ETA: 0s - loss: 0.0015 - mae: 0.0286"
     ]
    },
    {
     "name": "stderr",
     "output_type": "stream",
     "text": [
      "\n"
     ]
    },
    {
     "name": "stdout",
     "output_type": "stream",
     "text": [
      "55/55 [==============================] - 1s 20ms/step - loss: 0.0014 - mae: 0.0284\n",
      "Epoch time: 1.145953893661499\n",
      "Epoch 19:\n"
     ]
    },
    {
     "name": "stderr",
     "output_type": "stream",
     "text": [
      "100%|███████████████████████████████████████████████████████████████████████████| 7000/7000 [00:00<00:00, 252734.17it/s]"
     ]
    },
    {
     "name": "stdout",
     "output_type": "stream",
     "text": [
      " 7/55 [==>...........................] - ETA: 0s - loss: 0.0013 - mae: 0.0274"
     ]
    },
    {
     "name": "stderr",
     "output_type": "stream",
     "text": [
      "\n"
     ]
    },
    {
     "name": "stdout",
     "output_type": "stream",
     "text": [
      "55/55 [==============================] - 1s 20ms/step - loss: 0.0013 - mae: 0.0275\n",
      "Epoch time: 1.1575639247894287\n",
      "Epoch 20:\n"
     ]
    },
    {
     "name": "stderr",
     "output_type": "stream",
     "text": [
      "100%|███████████████████████████████████████████████████████████████████████████| 7000/7000 [00:00<00:00, 254897.62it/s]"
     ]
    },
    {
     "name": "stdout",
     "output_type": "stream",
     "text": [
      " 7/55 [==>...........................] - ETA: 0s - loss: 0.0015 - mae: 0.0296"
     ]
    },
    {
     "name": "stderr",
     "output_type": "stream",
     "text": [
      "\n"
     ]
    },
    {
     "name": "stdout",
     "output_type": "stream",
     "text": [
      "55/55 [==============================] - 1s 20ms/step - loss: 0.0014 - mae: 0.0283\n",
      "Epoch time: 1.1553430557250977\n",
      "Epoch 21:\n"
     ]
    },
    {
     "name": "stderr",
     "output_type": "stream",
     "text": [
      "100%|███████████████████████████████████████████████████████████████████████████| 7000/7000 [00:00<00:00, 254742.81it/s]"
     ]
    },
    {
     "name": "stdout",
     "output_type": "stream",
     "text": [
      " 7/55 [==>...........................] - ETA: 0s - loss: 0.0012 - mae: 0.0256   "
     ]
    },
    {
     "name": "stderr",
     "output_type": "stream",
     "text": [
      "\n"
     ]
    },
    {
     "name": "stdout",
     "output_type": "stream",
     "text": [
      "55/55 [==============================] - 1s 20ms/step - loss: 0.0014 - mae: 0.0282\n",
      "Epoch time: 1.148186206817627\n",
      "Epoch 22:\n"
     ]
    },
    {
     "name": "stderr",
     "output_type": "stream",
     "text": [
      "100%|███████████████████████████████████████████████████████████████████████████| 7000/7000 [00:00<00:00, 253495.72it/s]"
     ]
    },
    {
     "name": "stdout",
     "output_type": "stream",
     "text": [
      " 7/55 [==>...........................] - ETA: 0s - loss: 0.0011 - mae: 0.0253   "
     ]
    },
    {
     "name": "stderr",
     "output_type": "stream",
     "text": [
      "\n"
     ]
    },
    {
     "name": "stdout",
     "output_type": "stream",
     "text": [
      "55/55 [==============================] - 1s 20ms/step - loss: 0.0013 - mae: 0.0276\n",
      "Epoch time: 1.1441569328308105\n",
      "Stopping early due to lack of improvement!\n",
      "Total time taken: 27.390577793121338 seconds.\n"
     ]
    }
   ],
   "source": [
    "model.fit(128, seqs, distance_on=distance_on, epochs=20)"
   ]
  },
  {
   "cell_type": "code",
   "execution_count": 52,
   "id": "5babb3ac-b61e-4457-99dd-4f15c7b7b774",
   "metadata": {},
   "outputs": [
    {
     "name": "stdout",
     "output_type": "stream",
     "text": [
      "55/55 [==============================] - 0s 6ms/step\n",
      "12/12 [==============================] - 0s 7ms/step\n"
     ]
    }
   ],
   "source": [
    "encodings = model.transform(seqs, 128)\n",
    "encodings_test = model.transform(sequences['test'], 128)"
   ]
  },
  {
   "cell_type": "code",
   "execution_count": 59,
   "id": "5a8ff454-7d40-4934-92b7-a613a6520f4b",
   "metadata": {},
   "outputs": [],
   "source": [
    "distance_on_test = np.array(['A', 'C', 'G', 'T'])[sequences['test']]\n",
    "distance_on_test = np.fromiter((''.join(i) for i in distance_on_test), dtype=object).astype(str)"
   ]
  },
  {
   "cell_type": "code",
   "execution_count": 60,
   "id": "ad7b3cde-8c87-45e7-b60d-965330b9ef3d",
   "metadata": {},
   "outputs": [
    {
     "name": "stdout",
     "output_type": "stream",
     "text": [
      "Calculating embedding distances\n",
      "Calculating true distances\n"
     ]
    },
    {
     "name": "stderr",
     "output_type": "stream",
     "text": [
      "100%|███████████████████████████████████████████████████████████████████████████| 7000/7000 [00:00<00:00, 232597.84it/s]\n"
     ]
    },
    {
     "name": "stdout",
     "output_type": "stream",
     "text": [
      "Calculating embedding distances\n",
      "Calculating true distances\n"
     ]
    },
    {
     "name": "stderr",
     "output_type": "stream",
     "text": [
      "100%|███████████████████████████████████████████████████████████████████████████| 1500/1500 [00:00<00:00, 239000.76it/s]"
     ]
    },
    {
     "name": "stdout",
     "output_type": "stream",
     "text": [
      "Predicting true distances...\n",
      "Mean squared error of distances: 0.0017076422415777774\n",
      "R-squared correlation coefficient: 0.8957202892020394\n",
      "Mean absolute percentage error: 30444070371.440212\n"
     ]
    },
    {
     "name": "stderr",
     "output_type": "stream",
     "text": [
      "\n"
     ]
    }
   ],
   "source": [
    "from SeREGen.comparative_encoder import LinearDecoder\n",
    "dec = LinearDecoder(dist=dist)\n",
    "dec.fit(encodings, distance_on)\n",
    "results = dec.evaluate(encodings_test, distance_on_test, sample_size=1000)"
   ]
  },
  {
   "cell_type": "code",
   "execution_count": 61,
   "id": "60fa2615-7116-4c02-af34-9f92e972a983",
   "metadata": {},
   "outputs": [
    {
     "data": {
      "text/plain": [
       "0.8959599057237133"
      ]
     },
     "execution_count": 61,
     "metadata": {},
     "output_type": "execute_result"
    }
   ],
   "source": [
    "from scipy.stats import pearsonr\n",
    "pearsonr(*results).statistic ** 2"
   ]
  },
  {
   "cell_type": "code",
   "execution_count": 62,
   "id": "925f0793-199e-4b00-881e-30765cbf2a5a",
   "metadata": {},
   "outputs": [
    {
     "data": {
      "text/plain": [
       "0.03066715594786301"
      ]
     },
     "execution_count": 62,
     "metadata": {},
     "output_type": "execute_result"
    }
   ],
   "source": [
    "np.mean(np.abs(results[1] - results[0]))"
   ]
  },
  {
   "cell_type": "code",
   "execution_count": 63,
   "id": "6513c02c-56ad-4a44-b03e-8d6679522c0e",
   "metadata": {},
   "outputs": [
    {
     "data": {
      "text/plain": [
       "0.041323628126990225"
      ]
     },
     "execution_count": 63,
     "metadata": {},
     "output_type": "execute_result"
    }
   ],
   "source": [
    "np.mean((results[1] - results[0]) ** 2) ** .5"
   ]
  },
  {
   "cell_type": "code",
   "execution_count": 57,
   "id": "a88d595e-cb92-4b0e-813a-f4d1d7cb113e",
   "metadata": {},
   "outputs": [
    {
     "data": {
      "image/png": "[encoded data removed]",
      "text/plain": [
       "<Figure size 640x480 with 1 Axes>"
      ]
     },
     "metadata": {},
     "output_type": "display_data"
    }
   ],
   "source": [
    "import matplotlib.pyplot as plt\n",
    "plt.scatter(results[0], results[1], alpha=.02)\n",
    "plt.show()"
   ]
  },
  {
   "cell_type": "code",
   "execution_count": 58,
   "id": "163be97c-daf9-40b4-a435-b3a6c87fdc91",
   "metadata": {},
   "outputs": [
    {
     "data": {
      "image/png": "[encoded data removed]",
      "text/plain": [
       "<Figure size 640x480 with 1 Axes>"
      ]
     },
     "metadata": {},
     "output_type": "display_data"
    }
   ],
   "source": [
    "plt.scatter(encodings[:1000, 0], encodings[:1000, 1], alpha=.1)\n",
    "plt.show()"
   ]
  },
  {
   "cell_type": "code",
   "execution_count": null,
   "id": "2df4287d-8aaf-4b3d-b548-0868bd659dda",
   "metadata": {},
   "outputs": [],
   "source": []
  }
 ],
 "metadata": {
  "kernelspec": {
   "display_name": "Python 3 (ipykernel)",
   "language": "python",
   "name": "python3"
  },
  "language_info": {
   "codemirror_mode": {
    "name": "ipython",
    "version": 3
   },
   "file_extension": ".py",
   "mimetype": "text/x-python",
   "name": "python",
   "nbconvert_exporter": "python",
   "pygments_lexer": "ipython3",
   "version": "3.10.9"
  }
 },
 "nbformat": 4,
 "nbformat_minor": 5
}
