{
 "cells": [
  {
   "cell_type": "code",
   "execution_count": 1,
   "id": "f052bcd0-6434-4ace-9f1a-afc8228f0c91",
   "metadata": {
    "scrolled": true
   },
   "outputs": [
    {
     "name": "stdout",
     "output_type": "stream",
     "text": [
      "Processing /Users/NikhilKalidasu/Documents/DNA Visualization/SeREGen/SeREGen\n",
      "  Installing build dependencies ... \u001b[?25ldone\n",
      "\u001b[?25h  Getting requirements to build wheel ... \u001b[?25ldone\n",
      "\u001b[?25h  Preparing metadata (pyproject.toml) ... \u001b[?25ldone\n",
      "\u001b[?25hRequirement already satisfied: numpy>=1.21.2 in /Users/NikhilKalidasu/miniforge3/envs/pytorch/lib/python3.10/site-packages (from SeREGen==0.1.0) (1.25.1)\n",
      "Requirement already satisfied: tqdm>=4.64.2 in /Users/NikhilKalidasu/miniforge3/envs/pytorch/lib/python3.10/site-packages (from SeREGen==0.1.0) (4.65.0)\n",
      "Requirement already satisfied: torch>=2.3.1 in /Users/NikhilKalidasu/miniforge3/envs/pytorch/lib/python3.10/site-packages (from SeREGen==0.1.0) (2.3.1)\n",
      "Requirement already satisfied: torchtext>=0.17.0 in /Users/NikhilKalidasu/miniforge3/envs/pytorch/lib/python3.10/site-packages (from SeREGen==0.1.0) (0.18.0)\n",
      "Requirement already satisfied: torchinfo>=1.8.0 in /Users/NikhilKalidasu/miniforge3/envs/pytorch/lib/python3.10/site-packages (from SeREGen==0.1.0) (1.8.0)\n",
      "Requirement already satisfied: scikit-learn>=1.3.0 in /Users/NikhilKalidasu/miniforge3/envs/pytorch/lib/python3.10/site-packages (from SeREGen==0.1.0) (1.5.1)\n",
      "Requirement already satisfied: matplotlib>=3.4.3 in /Users/NikhilKalidasu/miniforge3/envs/pytorch/lib/python3.10/site-packages (from SeREGen==0.1.0) (3.7.1)\n",
      "Requirement already satisfied: biopython>=1.79 in /Users/NikhilKalidasu/miniforge3/envs/pytorch/lib/python3.10/site-packages (from SeREGen==0.1.0) (1.81)\n",
      "Requirement already satisfied: pandas>=1.3.3 in /Users/NikhilKalidasu/miniforge3/envs/pytorch/lib/python3.10/site-packages (from SeREGen==0.1.0) (2.0.3)\n",
      "Requirement already satisfied: scipy>=1.10.1 in /Users/NikhilKalidasu/miniforge3/envs/pytorch/lib/python3.10/site-packages (from SeREGen==0.1.0) (1.11.1)\n",
      "Requirement already satisfied: rdkit>=2023.3.3 in /Users/NikhilKalidasu/miniforge3/envs/pytorch/lib/python3.10/site-packages (from SeREGen==0.1.0) (2024.3.1)\n",
      "Requirement already satisfied: Levenshtein>=0.25.1 in /Users/NikhilKalidasu/miniforge3/envs/pytorch/lib/python3.10/site-packages (from SeREGen==0.1.0) (0.25.1)\n",
      "Requirement already satisfied: geomstats>=2.7.0 in /Users/NikhilKalidasu/miniforge3/envs/pytorch/lib/python3.10/site-packages (from SeREGen==0.1.0) (2.7.0)\n",
      "Requirement already satisfied: joblib>=0.17.0 in /Users/NikhilKalidasu/miniforge3/envs/pytorch/lib/python3.10/site-packages (from geomstats>=2.7.0->SeREGen==0.1.0) (1.4.2)\n",
      "Requirement already satisfied: rapidfuzz<4.0.0,>=3.8.0 in /Users/NikhilKalidasu/miniforge3/envs/pytorch/lib/python3.10/site-packages (from Levenshtein>=0.25.1->SeREGen==0.1.0) (3.9.1)\n",
      "Requirement already satisfied: contourpy>=1.0.1 in /Users/NikhilKalidasu/miniforge3/envs/pytorch/lib/python3.10/site-packages (from matplotlib>=3.4.3->SeREGen==0.1.0) (1.0.7)\n",
      "Requirement already satisfied: cycler>=0.10 in /Users/NikhilKalidasu/miniforge3/envs/pytorch/lib/python3.10/site-packages (from matplotlib>=3.4.3->SeREGen==0.1.0) (0.11.0)\n",
      "Requirement already satisfied: fonttools>=4.22.0 in /Users/NikhilKalidasu/miniforge3/envs/pytorch/lib/python3.10/site-packages (from matplotlib>=3.4.3->SeREGen==0.1.0) (4.39.0)\n",
      "Requirement already satisfied: kiwisolver>=1.0.1 in /Users/NikhilKalidasu/miniforge3/envs/pytorch/lib/python3.10/site-packages (from matplotlib>=3.4.3->SeREGen==0.1.0) (1.4.4)\n",
      "Requirement already satisfied: packaging>=20.0 in /Users/NikhilKalidasu/miniforge3/envs/pytorch/lib/python3.10/site-packages (from matplotlib>=3.4.3->SeREGen==0.1.0) (22.0)\n",
      "Requirement already satisfied: pillow>=6.2.0 in /Users/NikhilKalidasu/miniforge3/envs/pytorch/lib/python3.10/site-packages (from matplotlib>=3.4.3->SeREGen==0.1.0) (9.4.0)\n",
      "Requirement already satisfied: pyparsing>=2.3.1 in /Users/NikhilKalidasu/miniforge3/envs/pytorch/lib/python3.10/site-packages (from matplotlib>=3.4.3->SeREGen==0.1.0) (3.0.9)\n",
      "Requirement already satisfied: python-dateutil>=2.7 in /Users/NikhilKalidasu/miniforge3/envs/pytorch/lib/python3.10/site-packages (from matplotlib>=3.4.3->SeREGen==0.1.0) (2.8.2)\n",
      "Requirement already satisfied: pytz>=2020.1 in /Users/NikhilKalidasu/miniforge3/envs/pytorch/lib/python3.10/site-packages (from pandas>=1.3.3->SeREGen==0.1.0) (2022.7.1)\n",
      "Requirement already satisfied: tzdata>=2022.1 in /Users/NikhilKalidasu/miniforge3/envs/pytorch/lib/python3.10/site-packages (from pandas>=1.3.3->SeREGen==0.1.0) (2023.3)\n",
      "Requirement already satisfied: threadpoolctl>=3.1.0 in /Users/NikhilKalidasu/miniforge3/envs/pytorch/lib/python3.10/site-packages (from scikit-learn>=1.3.0->SeREGen==0.1.0) (3.1.0)\n",
      "Requirement already satisfied: filelock in /Users/NikhilKalidasu/miniforge3/envs/pytorch/lib/python3.10/site-packages (from torch>=2.3.1->SeREGen==0.1.0) (3.9.0)\n",
      "Requirement already satisfied: typing-extensions>=4.8.0 in /Users/NikhilKalidasu/miniforge3/envs/pytorch/lib/python3.10/site-packages (from torch>=2.3.1->SeREGen==0.1.0) (4.8.0)\n",
      "Requirement already satisfied: sympy in /Users/NikhilKalidasu/miniforge3/envs/pytorch/lib/python3.10/site-packages (from torch>=2.3.1->SeREGen==0.1.0) (1.11.1)\n",
      "Requirement already satisfied: networkx in /Users/NikhilKalidasu/miniforge3/envs/pytorch/lib/python3.10/site-packages (from torch>=2.3.1->SeREGen==0.1.0) (2.8.4)\n",
      "Requirement already satisfied: jinja2 in /Users/NikhilKalidasu/miniforge3/envs/pytorch/lib/python3.10/site-packages (from torch>=2.3.1->SeREGen==0.1.0) (3.1.2)\n",
      "Requirement already satisfied: fsspec in /Users/NikhilKalidasu/miniforge3/envs/pytorch/lib/python3.10/site-packages (from torch>=2.3.1->SeREGen==0.1.0) (2023.3.0)\n",
      "Requirement already satisfied: requests in /Users/NikhilKalidasu/miniforge3/envs/pytorch/lib/python3.10/site-packages (from torchtext>=0.17.0->SeREGen==0.1.0) (2.32.2)\n",
      "Requirement already satisfied: six>=1.5 in /Users/NikhilKalidasu/miniforge3/envs/pytorch/lib/python3.10/site-packages (from python-dateutil>=2.7->matplotlib>=3.4.3->SeREGen==0.1.0) (1.16.0)\n",
      "Requirement already satisfied: MarkupSafe>=2.0 in /Users/NikhilKalidasu/miniforge3/envs/pytorch/lib/python3.10/site-packages (from jinja2->torch>=2.3.1->SeREGen==0.1.0) (2.1.1)\n",
      "Requirement already satisfied: charset-normalizer<4,>=2 in /Users/NikhilKalidasu/miniforge3/envs/pytorch/lib/python3.10/site-packages (from requests->torchtext>=0.17.0->SeREGen==0.1.0) (2.0.4)\n",
      "Requirement already satisfied: idna<4,>=2.5 in /Users/NikhilKalidasu/miniforge3/envs/pytorch/lib/python3.10/site-packages (from requests->torchtext>=0.17.0->SeREGen==0.1.0) (3.4)\n",
      "Requirement already satisfied: urllib3<3,>=1.21.1 in /Users/NikhilKalidasu/miniforge3/envs/pytorch/lib/python3.10/site-packages (from requests->torchtext>=0.17.0->SeREGen==0.1.0) (1.26.14)\n",
      "Requirement already satisfied: certifi>=2017.4.17 in /Users/NikhilKalidasu/miniforge3/envs/pytorch/lib/python3.10/site-packages (from requests->torchtext>=0.17.0->SeREGen==0.1.0) (2022.12.7)\n",
      "Requirement already satisfied: mpmath>=0.19 in /Users/NikhilKalidasu/miniforge3/envs/pytorch/lib/python3.10/site-packages/mpmath-1.2.1-py3.10.egg (from sympy->torch>=2.3.1->SeREGen==0.1.0) (1.2.1)\n",
      "Building wheels for collected packages: SeREGen\n",
      "  Building wheel for SeREGen (pyproject.toml) ... \u001b[?25ldone\n",
      "\u001b[?25h  Created wheel for SeREGen: filename=SeREGen-0.1.0-py3-none-any.whl size=48175 sha256=de3f324ad52dcbf4ca57be513df8cfb6ff091af2224e0ea87fa989fcd9b53953\n",
      "  Stored in directory: /private/var/folders/_t/pfxf9f7x0nz1m6vckn9glz_40000gn/T/pip-ephem-wheel-cache-5alqzug1/wheels/c6/79/e5/431bc1fc7477a043b52c65c69a40862e34f24b12add06f2e4c\n",
      "Successfully built SeREGen\n",
      "Installing collected packages: SeREGen\n",
      "  Attempting uninstall: SeREGen\n",
      "    Found existing installation: SeREGen 0.1.0\n",
      "    Uninstalling SeREGen-0.1.0:\n",
      "      Successfully uninstalled SeREGen-0.1.0\n",
      "Successfully installed SeREGen-0.1.0\n",
      "\n",
      "\u001b[1m[\u001b[0m\u001b[34;49mnotice\u001b[0m\u001b[1;39;49m]\u001b[0m\u001b[39;49m A new release of pip is available: \u001b[0m\u001b[31;49m24.1.1\u001b[0m\u001b[39;49m -> \u001b[0m\u001b[32;49m24.1.2\u001b[0m\n",
      "\u001b[1m[\u001b[0m\u001b[34;49mnotice\u001b[0m\u001b[1;39;49m]\u001b[0m\u001b[39;49m To update, run: \u001b[0m\u001b[32;49mpip install --upgrade pip\u001b[0m\n"
     ]
    }
   ],
   "source": [
    "!pip install ../SeREGen"
   ]
  },
  {
   "cell_type": "code",
   "execution_count": 2,
   "id": "efdd4550-c0d0-4414-ae10-99097d42a515",
   "metadata": {},
   "outputs": [],
   "source": [
    "import torch\n",
    "torch.manual_seed(2021)\n",
    "import pickle\n",
    "with open('edit_qiita_large_np.pkl', 'rb') as f:\n",
    "    sequences, distances = pickle.load(f)"
   ]
  },
  {
   "cell_type": "code",
   "execution_count": 3,
   "id": "b6140dae-35fb-460a-bf80-4e5737591af9",
   "metadata": {},
   "outputs": [],
   "source": [
    "dense_depth = 1\n",
    "seq_len = sequences['train'].shape[-1]\n",
    "compress_factor = 1\n",
    "conv_filters = 64\n",
    "conv_kernel_size=16\n",
    "attn_heads = 2"
   ]
  },
  {
   "cell_type": "code",
   "execution_count": 4,
   "id": "4bf6588c-de51-4362-9109-74a9f935c55d",
   "metadata": {
    "scrolled": true
   },
   "outputs": [
    {
     "name": "stderr",
     "output_type": "stream",
     "text": [
      "/Users/NikhilKalidasu/miniforge3/envs/pytorch/lib/python3.10/site-packages/torchtext/data/__init__.py:4: UserWarning: \n",
      "/!\\ IMPORTANT WARNING ABOUT TORCHTEXT STATUS /!\\ \n",
      "Torchtext is deprecated and the last released version will be 0.18 (this one). You can silence this warning by calling the following at the beginnign of your scripts: `import torchtext; torchtext.disable_torchtext_deprecation_warning()`\n",
      "  warnings.warn(torchtext._TORCHTEXT_DEPRECATION_MSG)\n",
      "/Users/NikhilKalidasu/miniforge3/envs/pytorch/lib/python3.10/site-packages/torchtext/vocab/__init__.py:4: UserWarning: \n",
      "/!\\ IMPORTANT WARNING ABOUT TORCHTEXT STATUS /!\\ \n",
      "Torchtext is deprecated and the last released version will be 0.18 (this one). You can silence this warning by calling the following at the beginnign of your scripts: `import torchtext; torchtext.disable_torchtext_deprecation_warning()`\n",
      "  warnings.warn(torchtext._TORCHTEXT_DEPRECATION_MSG)\n",
      "/Users/NikhilKalidasu/miniforge3/envs/pytorch/lib/python3.10/site-packages/torchtext/utils.py:4: UserWarning: \n",
      "/!\\ IMPORTANT WARNING ABOUT TORCHTEXT STATUS /!\\ \n",
      "Torchtext is deprecated and the last released version will be 0.18 (this one). You can silence this warning by calling the following at the beginnign of your scripts: `import torchtext; torchtext.disable_torchtext_deprecation_warning()`\n",
      "  warnings.warn(torchtext._TORCHTEXT_DEPRECATION_MSG)\n",
      "INFO: Using pytorch backend\n",
      "INFO: Enabling RDKit 2024.03.1 jupyter extensions\n"
     ]
    },
    {
     "data": {
      "text/plain": [
       "=================================================================\n",
       "Layer (type:depth-idx)                   Param #\n",
       "=================================================================\n",
       "Sequential                               --\n",
       "├─OneHotEncoding: 1-1                    --\n",
       "├─Flatten: 1-2                           --\n",
       "├─Linear: 1-3                            2\n",
       "│    └─Sequential: 2-1                   --\n",
       "│    │    └─Linear: 3-1                  1,218\n",
       "=================================================================\n",
       "Total params: 1,220\n",
       "Trainable params: 1,220\n",
       "Non-trainable params: 0\n",
       "================================================================="
      ]
     },
     "execution_count": 4,
     "metadata": {},
     "output_type": "execute_result"
    }
   ],
   "source": [
    "from SeREGen.encoders import ModelBuilder\n",
    "builder = ModelBuilder((sequences['train'].shape[-1],), input_dtype=torch.float32, float_type=torch.float32)\n",
    "builder.one_hot_encoding(4)\n",
    "# builder.transpose()\n",
    "# builder.dense(seq_len)\n",
    "# builder.dense(seq_len, depth=dense_depth, residual=True)\n",
    "# builder.conv1D(conv_filters, conv_kernel_size, residual=True)\n",
    "# # builder.attention(attn_heads, seq_len // compress_factor)\n",
    "# builder.dense(seq_len, residual=True)\n",
    "# builder.conv1D(16, 4, residual=True)\n",
    "\n",
    "from SeREGen.comparative_encoder import ComparativeEncoder\n",
    "from SeREGen.distance import EditDistance\n",
    "dist = EditDistance(silence=True)\n",
    "model = ComparativeEncoder.from_model_builder(builder, repr_size=2, embed_dist='hyperbolic', batch_size=128,\n",
    "                                              norm_type='soft_clip', dist=dist)\n",
    "model.summary()"
   ]
  },
  {
   "cell_type": "code",
   "execution_count": null,
   "id": "8d084c0f-d323-430f-9374-db68f1181e66",
   "metadata": {},
   "outputs": [
    {
     "name": "stdout",
     "output_type": "stream",
     "text": [
      "Epoch 1:\n"
     ]
    },
    {
     "name": "stderr",
     "output_type": "stream",
     "text": [
      "Training model (loss: 4.6192e-01): 100%|██████████████████████████████████████████████| 219/219 [00:05<00:00, 42.99it/s]\n"
     ]
    },
    {
     "name": "stdout",
     "output_type": "stream",
     "text": [
      "Epoch time: 5.9456987380981445\n",
      "Epoch 2:\n"
     ]
    },
    {
     "name": "stderr",
     "output_type": "stream",
     "text": [
      "Training model (loss: 3.6338e-01): 100%|██████████████████████████████████████████████| 219/219 [00:04<00:00, 53.52it/s]\n"
     ]
    },
    {
     "name": "stdout",
     "output_type": "stream",
     "text": [
      "Epoch time: 4.248239755630493\n",
      "Epoch 3:\n"
     ]
    },
    {
     "name": "stderr",
     "output_type": "stream",
     "text": [
      "Training model (loss: 2.5544e-01): 100%|██████████████████████████████████████████████| 219/219 [00:04<00:00, 52.18it/s]\n"
     ]
    },
    {
     "name": "stdout",
     "output_type": "stream",
     "text": [
      "Epoch time: 4.337592124938965\n",
      "Epoch 4:\n"
     ]
    },
    {
     "name": "stderr",
     "output_type": "stream",
     "text": [
      "Training model (loss: 1.6481e-01): 100%|██████████████████████████████████████████████| 219/219 [00:04<00:00, 52.38it/s]\n"
     ]
    },
    {
     "name": "stdout",
     "output_type": "stream",
     "text": [
      "Epoch time: 4.321186065673828\n",
      "Epoch 5:\n"
     ]
    },
    {
     "name": "stderr",
     "output_type": "stream",
     "text": [
      "Training model (loss: 9.9286e-02): 100%|██████████████████████████████████████████████| 219/219 [00:04<00:00, 53.26it/s]\n"
     ]
    },
    {
     "name": "stdout",
     "output_type": "stream",
     "text": [
      "Epoch time: 4.251497983932495\n",
      "Epoch 6:\n"
     ]
    },
    {
     "name": "stderr",
     "output_type": "stream",
     "text": [
      "Training model (loss: 7.3411e-02): 100%|██████████████████████████████████████████████| 219/219 [00:03<00:00, 55.88it/s]\n"
     ]
    },
    {
     "name": "stdout",
     "output_type": "stream",
     "text": [
      "Epoch time: 4.056297063827515\n",
      "Epoch 7:\n"
     ]
    },
    {
     "name": "stderr",
     "output_type": "stream",
     "text": [
      "Training model (loss: 7.0931e-02): 100%|██████████████████████████████████████████████| 219/219 [00:03<00:00, 55.17it/s]\n"
     ]
    },
    {
     "name": "stdout",
     "output_type": "stream",
     "text": [
      "Epoch time: 4.108319044113159\n",
      "Epoch 8:\n"
     ]
    },
    {
     "name": "stderr",
     "output_type": "stream",
     "text": [
      "Training model (loss: 6.8839e-02): 100%|██████████████████████████████████████████████| 219/219 [00:04<00:00, 54.64it/s]\n"
     ]
    },
    {
     "name": "stdout",
     "output_type": "stream",
     "text": [
      "Epoch time: 4.1475830078125\n",
      "Epoch 9:\n"
     ]
    },
    {
     "name": "stderr",
     "output_type": "stream",
     "text": [
      "Training model (loss: 6.7681e-02): 100%|██████████████████████████████████████████████| 219/219 [00:03<00:00, 55.65it/s]\n"
     ]
    },
    {
     "name": "stdout",
     "output_type": "stream",
     "text": [
      "Epoch time: 4.074595928192139\n",
      "Epoch 10:\n"
     ]
    },
    {
     "name": "stderr",
     "output_type": "stream",
     "text": [
      "Training model (loss: 6.7647e-02): 100%|██████████████████████████████████████████████| 219/219 [00:03<00:00, 56.72it/s]\n"
     ]
    },
    {
     "name": "stdout",
     "output_type": "stream",
     "text": [
      "Epoch time: 4.001422882080078\n",
      "Epoch 11:\n"
     ]
    },
    {
     "name": "stderr",
     "output_type": "stream",
     "text": [
      "Training model (loss: 6.7208e-02): 100%|██████████████████████████████████████████████| 219/219 [00:03<00:00, 55.92it/s]\n"
     ]
    },
    {
     "name": "stdout",
     "output_type": "stream",
     "text": [
      "Epoch time: 4.054839134216309\n",
      "Epoch 12:\n"
     ]
    },
    {
     "name": "stderr",
     "output_type": "stream",
     "text": [
      "Training model (loss: 6.6891e-02): 100%|██████████████████████████████████████████████| 219/219 [00:04<00:00, 54.70it/s]\n"
     ]
    },
    {
     "name": "stdout",
     "output_type": "stream",
     "text": [
      "Epoch time: 4.146183252334595\n",
      "Epoch 13:\n"
     ]
    },
    {
     "name": "stderr",
     "output_type": "stream",
     "text": [
      "Training model (loss: 6.7794e-02):  28%|█████████████▎                                 | 62/219 [00:01<00:02, 54.98it/s]"
     ]
    }
   ],
   "source": [
    "import numpy as np\n",
    "seqs = sequences['train']\n",
    "distance_on = np.array(['A', 'C', 'G', 'T'])[seqs]\n",
    "distance_on = np.fromiter((''.join(i) for i in distance_on), dtype=object).astype(str)\n",
    "model.fit(seqs, loss='mse', distance_on=distance_on, epoch_factor=4, patience=3,\n",
    "          suppress_grad_warn=['vanishing', 'nan'], clip_grad=False, encoding_loss=\"euclidean_dist\",\n",
    "          euclidean_dist_alpha=.1)"
   ]
  },
  {
   "cell_type": "code",
   "execution_count": null,
   "id": "f1d8f937-69d3-48ea-9da5-851b255c0db7",
   "metadata": {},
   "outputs": [],
   "source": [
    "# model.save('2d')"
   ]
  },
  {
   "cell_type": "code",
   "execution_count": null,
   "id": "2016a0f1-75af-484d-b4d6-0dc2457ba63f",
   "metadata": {},
   "outputs": [],
   "source": [
    "# from SeREGen.comparative_encoder import ComparativeEncoder\n",
    "# from SeREGen.distance import EditDistance\n",
    "# dist = EditDistance()\n",
    "# model = ComparativeEncoder.load('2d')"
   ]
  },
  {
   "cell_type": "code",
   "execution_count": null,
   "id": "5fb25d26-910f-4114-8c51-70f8617b55ea",
   "metadata": {},
   "outputs": [],
   "source": [
    "print(\"Eval on train\")\n",
    "results = model.evaluate(seqs, distance_on, sample_size=1000)"
   ]
  },
  {
   "cell_type": "code",
   "execution_count": null,
   "id": "ad7b3cde-8c87-45e7-b60d-965330b9ef3d",
   "metadata": {},
   "outputs": [],
   "source": [
    "print(\"Eval on test\")\n",
    "distance_on_test = np.array(['A', 'C', 'G', 'T'])[sequences['test']]\n",
    "distance_on_test = np.fromiter((''.join(i) for i in distance_on_test), dtype=object).astype(str)\n",
    "results = model.evaluate(sequences['test'], distance_on_test, sample_size=1000)"
   ]
  },
  {
   "cell_type": "code",
   "execution_count": null,
   "id": "34685488-6989-4c0f-a4a9-47a396a3092e",
   "metadata": {},
   "outputs": [],
   "source": [
    "import torch\n",
    "x, y = torch.from_numpy(results[0]).float(), torch.from_numpy(results[1]).float()\n",
    "mx, my = torch.mean(x), torch.mean(y)\n",
    "xm, ym = x - mx, y - my\n",
    "r_num = torch.sum(xm * ym)\n",
    "r_den = torch.sqrt(torch.sum(xm**2) * torch.sum(ym**2))\n",
    "r = r_num / (r_den + 1e-8)  # Adding a small epsilon to avoid division by zero\n",
    "r = torch.clamp(r, min=-1.0, max=1.0)\n",
    "r"
   ]
  },
  {
   "cell_type": "code",
   "execution_count": null,
   "id": "8e238b3c-2ee1-4e26-a58b-04b1d0efbecf",
   "metadata": {},
   "outputs": [],
   "source": [
    "np.mean((results[0] - results[1]) ** 2)"
   ]
  },
  {
   "cell_type": "code",
   "execution_count": null,
   "id": "c845c98e-e458-4ccb-9918-30a09dab3102",
   "metadata": {},
   "outputs": [],
   "source": [
    "np.mean((results[0] - results[1]) ** 2) ** .5"
   ]
  },
  {
   "cell_type": "code",
   "execution_count": null,
   "id": "60fa2615-7116-4c02-af34-9f92e972a983",
   "metadata": {},
   "outputs": [],
   "source": [
    "from scipy.stats import pearsonr\n",
    "pearsonr(*results).statistic ** 2"
   ]
  },
  {
   "cell_type": "code",
   "execution_count": null,
   "id": "925f0793-199e-4b00-881e-30765cbf2a5a",
   "metadata": {},
   "outputs": [],
   "source": [
    "np.mean(np.abs(results[1] - results[0]))"
   ]
  },
  {
   "cell_type": "code",
   "execution_count": null,
   "id": "a88d595e-cb92-4b0e-813a-f4d1d7cb113e",
   "metadata": {},
   "outputs": [],
   "source": [
    "import matplotlib.pyplot as plt\n",
    "plt.scatter(results[0], results[1], alpha=.1)\n",
    "plt.show()"
   ]
  },
  {
   "cell_type": "code",
   "execution_count": null,
   "id": "163be97c-daf9-40b4-a435-b3a6c87fdc91",
   "metadata": {},
   "outputs": [],
   "source": [
    "encodings = model.transform(seqs)\n",
    "import matplotlib.pyplot as plt\n",
    "plt.scatter(encodings[:1000, 0], encodings[:1000, 1], alpha=.1)\n",
    "plt.show()"
   ]
  },
  {
   "cell_type": "code",
   "execution_count": null,
   "id": "1762680b-5d3b-400e-a8aa-9314b515fb52",
   "metadata": {},
   "outputs": [],
   "source": []
  }
 ],
 "metadata": {
  "kernelspec": {
   "display_name": "Python 3 (ipykernel)",
   "language": "python",
   "name": "python3"
  },
  "language_info": {
   "codemirror_mode": {
    "name": "ipython",
    "version": 3
   },
   "file_extension": ".py",
   "mimetype": "text/x-python",
   "name": "python",
   "nbconvert_exporter": "python",
   "pygments_lexer": "ipython3",
   "version": "3.10.9"
  }
 },
 "nbformat": 4,
 "nbformat_minor": 5
}
