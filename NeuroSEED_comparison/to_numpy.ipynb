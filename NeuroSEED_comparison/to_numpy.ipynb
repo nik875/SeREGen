{
 "cells": [
  {
   "cell_type": "code",
   "execution_count": 5,
   "id": "edff852c-dbc9-4078-904b-d5a25bbfc299",
   "metadata": {},
   "outputs": [],
   "source": [
    "import pickle\n",
    "with open('./edit_qiita_large.pkl', 'rb') as f:\n",
    "    sequences, distances = pickle.load(f)"
   ]
  },
  {
   "cell_type": "code",
   "execution_count": 7,
   "id": "277b5820-875c-488b-a791-5d53673e419f",
   "metadata": {},
   "outputs": [],
   "source": [
    "for i in sequences:\n",
    "    sequences[i] = sequences[i].numpy()\n",
    "    distances[i] = distances[i].numpy()"
   ]
  },
  {
   "cell_type": "code",
   "execution_count": 9,
   "id": "69628916-c82f-4e50-ab16-4509ced08f5a",
   "metadata": {},
   "outputs": [],
   "source": [
    "with open('edit_qiita_large_np.pkl', 'wb') as f:\n",
    "    pickle.dump((sequences, distances), f)"
   ]
  },
  {
   "cell_type": "code",
   "execution_count": null,
   "id": "458e6d79-8404-4c4c-b3ae-7457d4fccc95",
   "metadata": {},
   "outputs": [],
   "source": []
  }
 ],
 "metadata": {
  "kernelspec": {
   "display_name": "Python 3 (ipykernel)",
   "language": "python",
   "name": "python3"
  },
  "language_info": {
   "codemirror_mode": {
    "name": "ipython",
    "version": 3
   },
   "file_extension": ".py",
   "mimetype": "text/x-python",
   "name": "python",
   "nbconvert_exporter": "python",
   "pygments_lexer": "ipython3",
   "version": "3.10.9"
  }
 },
 "nbformat": 4,
 "nbformat_minor": 5
}
