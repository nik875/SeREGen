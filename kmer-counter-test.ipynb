{
 "cells": [
  {
   "cell_type": "markdown",
   "metadata": {},
   "source": [
    "# Fully Vectorized K-Mer Counting"
   ]
  },
  {
   "cell_type": "code",
   "execution_count": 1,
   "metadata": {
    "ExecuteTime": {
     "end_time": "2023-04-27T03:34:04.279921Z",
     "start_time": "2023-04-27T03:34:03.951576Z"
    }
   },
   "outputs": [],
   "source": [
    "import numpy as np\n",
    "import matplotlib.pyplot as plt\n",
    "plt.style.use('dark_background')"
   ]
  },
  {
   "cell_type": "code",
   "execution_count": 6,
   "metadata": {
    "ExecuteTime": {
     "end_time": "2023-04-27T03:35:59.039159Z",
     "start_time": "2023-04-27T03:35:30.871943Z"
    }
   },
   "outputs": [],
   "source": [
    "from SeqRep.dataset_builder import DatasetBuilder, SILVAHeaderParser\n",
    "builder = DatasetBuilder(SILVAHeaderParser())\n",
    "dataset = builder.from_fasta(['SILVA_138.1_SSURef_NR99_tax_silva.fasta'])\n",
    "# dataset = builder.from_fasta(['small.fasta'])"
   ]
  },
  {
   "cell_type": "code",
   "execution_count": 9,
   "metadata": {
    "ExecuteTime": {
     "end_time": "2023-04-27T11:09:44.307573Z",
     "start_time": "2023-04-27T11:09:12.071373Z"
    }
   },
   "outputs": [
    {
     "name": "stderr",
     "output_type": "stream",
     "text": [
      "100%|███████████████████████████████████████████████████████████████| 510508/510508 [00:14<00:00, 36233.99it/s]\n"
     ]
    }
   ],
   "source": [
    "from SeqRep.kmers import KMerCounter\n",
    "\n",
    "counter = KMerCounter(5, jobs=7, chunksize=1000)\n",
    "data = counter.kmer_sequences(dataset['seqs'].to_numpy())"
   ]
  },
  {
   "cell_type": "code",
   "execution_count": 10,
   "metadata": {},
   "outputs": [
    {
     "name": "stderr",
     "output_type": "stream",
     "text": [
      "100%|███████████████████████████████████████████████████████████████| 510508/510508 [00:19<00:00, 26300.63it/s]\n"
     ]
    }
   ],
   "source": [
    "counts = counter.kmer_counts(dataset['seqs'].to_numpy())"
   ]
  },
  {
   "cell_type": "code",
   "execution_count": 11,
   "metadata": {},
   "outputs": [
    {
     "data": {
      "text/plain": [
       "array([1., 1., 2., ..., 1., 5., 3.])"
      ]
     },
     "execution_count": 11,
     "metadata": {},
     "output_type": "execute_result"
    }
   ],
   "source": [
    "counts[0]"
   ]
  },
  {
   "cell_type": "code",
   "execution_count": null,
   "metadata": {},
   "outputs": [],
   "source": []
  }
 ],
 "metadata": {
  "kernelspec": {
   "display_name": "Python 3 (ipykernel)",
   "language": "python",
   "name": "python3"
  },
  "language_info": {
   "codemirror_mode": {
    "name": "ipython",
    "version": 3
   },
   "file_extension": ".py",
   "mimetype": "text/x-python",
   "name": "python",
   "nbconvert_exporter": "python",
   "pygments_lexer": "ipython3",
   "version": "3.10.9"
  }
 },
 "nbformat": 4,
 "nbformat_minor": 4
}
